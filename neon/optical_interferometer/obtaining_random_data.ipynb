{
 "cells": [
  {
   "cell_type": "code",
   "execution_count": 1,
   "metadata": {},
   "outputs": [],
   "source": [
    "import os\n",
    "os.environ[\"CUDA_DEVICE_ORDER\"] = \"PCI_BUS_ID\"\n",
    "os.environ[\"CUDA_VISIBLE_DEVICES\"] = \"1\"\n",
    "os.environ[\"XLA_PYTHON_CLIENT_PREALLOCATE\"] = \"false\""
   ]
  },
  {
   "cell_type": "code",
   "execution_count": 2,
   "metadata": {},
   "outputs": [],
   "source": [
    "import jax.numpy as jnp\n",
    "from jax import random, vmap\n",
    "\n",
    "import numpy as onp\n",
    "\n",
    "import matplotlib.pyplot as plt\n",
    "import pickle"
   ]
  },
  {
   "cell_type": "code",
   "execution_count": 3,
   "metadata": {},
   "outputs": [
    {
     "name": "stderr",
     "output_type": "stream",
     "text": [
      "WARNING: All log messages before absl::InitializeLog() is called are written to STDERR\n",
      "I0000 00:00:1711046984.451501  127353 tfrt_cpu_pjrt_client.cc:349] TfrtCpuClient created.\n",
      "2024-03-21 14:49:49.126005: W tensorflow/compiler/tf2tensorrt/utils/py_utils.cc:38] TF-TRT Warning: Could not find TensorRT\n"
     ]
    }
   ],
   "source": [
    "from ground_truth import gt_op\n",
    "from generate_data import generate_lhs_data, import_data\n",
    "from sequential import objective\n",
    "\n",
    "import sys\n",
    "sys.path.append('..') # makes modules in parent repository available to import\n",
    "\n",
    "from acquisition import MCAcquisition"
   ]
  },
  {
   "cell_type": "code",
   "execution_count": 4,
   "metadata": {},
   "outputs": [],
   "source": [
    "N_y = 64\n",
    "dim_u = 4 # grid definition of intput functions\n",
    "dim_s = N_y**2 # grid definition of output functions\n",
    "lb = -jnp.ones((dim_u,)) # lower brounds; shape (4,)\n",
    "ub = jnp.ones((dim_u,)) # upper brounds; shape (4,)\n",
    "bounds = (lb, ub) # bounds of sampled functions\n",
    "\n",
    "xx, yy = jnp.meshgrid(jnp.arange(N_y) / N_y, jnp.arange(N_y) / N_y ) # shapes (N_y,N_y) and (N_y,N_y)\n",
    "y0 = jnp.concatenate([xx[:, :, None], yy[:, :, None]], axis=-1).reshape((-1, 2)) # shape (N_y**2, 2) # values of y; shape (N_y^2, 2)"
   ]
  },
  {
   "cell_type": "code",
   "execution_count": 5,
   "metadata": {},
   "outputs": [],
   "source": [
    "posterior = lambda x : x\n",
    "\n",
    "acq_model = MCAcquisition(posterior, (lb, ub),\n",
    "                        acq_fn = 'random_unif')"
   ]
  },
  {
   "cell_type": "code",
   "execution_count": 6,
   "metadata": {},
   "outputs": [
    {
     "data": {
      "text/plain": [
       "Array([-0.692994  , -0.23709604, -0.4979277 , -0.7958673 ], dtype=float32)"
      ]
     },
     "execution_count": 6,
     "metadata": {},
     "output_type": "execute_result"
    }
   ],
   "source": [
    "acq_model.next_best_point(q=1)"
   ]
  },
  {
   "cell_type": "code",
   "execution_count": 22,
   "metadata": {},
   "outputs": [],
   "source": [
    "def get_dataset(seed, num_init=15, num_new=85, q=1):\n",
    "    # initializes training dataset\n",
    "    num_init = 15 # number of initial examples\n",
    "    if seed in [0,1,2,3,4]: # import initial data from aziz datesets for fair comparison\n",
    "        dataset = import_data(num_init, seed)\n",
    "    else: # create new random dataset\n",
    "        dataset = generate_lhs_data(num_init, seed)\n",
    "    u_train, y_train, s_train, w_train = dataset\n",
    "    for i in range(num_new):\n",
    "        new_coeffs = acq_model.next_best_point(q=1).reshape(q,-1)\n",
    "        u_new = new_coeffs # (q, dim_u)\n",
    "        y_new = jnp.tile(y0, (q, 1, 1)) # (q, dim_s, P)\n",
    "        s_new = jnp.array([gt_op(u) for u in new_coeffs]) # (q, dim_s, sol_dim)\n",
    "        w_new = 1/jnp.linalg.norm(s_new, axis=(-1,-2))[:,None]**2 # (q,1)\n",
    "\n",
    "        # augumenting dataset\n",
    "        u_train = jnp.concatenate([u_train, u_new], axis=0) # shape (N+q, dim_u)\n",
    "        y_train = jnp.concatenate([y_train, y_new], axis=0) # shape (N+q, dim_s, P)\n",
    "        s_train = jnp.concatenate([s_train, s_new], axis=0) # shape (N+q, dim_s)\n",
    "        w_train = jnp.concatenate([w_train, w_new], axis=0) # shape (N+q, 1)\n",
    "    return (u_train, y_train, s_train, w_train)"
   ]
  },
  {
   "cell_type": "code",
   "execution_count": 23,
   "metadata": {},
   "outputs": [],
   "source": [
    "folder_name = 'collected_datasets/'\n",
    "obj_hist = []\n",
    "for seed in [0,1,2,3,4]:\n",
    "    # Collect dataset\n",
    "    dataset = get_dataset(seed)\n",
    "\n",
    "    # Save dataset\n",
    "    file_name = f'dataset_85_random_unif_seed{seed}.npz'\n",
    "    with open(folder_name+file_name, 'wb') as f:\n",
    "        pickle.dump(dataset, f)\n",
    "    \n",
    "    # Compute objectives\n",
    "    obj_hist.append(vmap(objective)(dataset[2]))    "
   ]
  },
  {
   "cell_type": "code",
   "execution_count": 26,
   "metadata": {},
   "outputs": [
    {
     "data": {
      "text/plain": [
       "[Array(0.11292326, dtype=float32),\n",
       " Array(0.1974566, dtype=float32),\n",
       " Array(0.66881204, dtype=float32),\n",
       " Array(0.05902921, dtype=float32),\n",
       " Array(0.19599706, dtype=float32)]"
      ]
     },
     "execution_count": 26,
     "metadata": {},
     "output_type": "execute_result"
    }
   ],
   "source": [
    "[-v.min() for v in obj_hist]"
   ]
  },
  {
   "cell_type": "code",
   "execution_count": 27,
   "metadata": {},
   "outputs": [
    {
     "data": {
      "image/png": "[encoded data removed]",
      "text/plain": [
       "<Figure size 640x480 with 1 Axes>"
      ]
     },
     "metadata": {},
     "output_type": "display_data"
    }
   ],
   "source": [
    "for obj in obj_hist:\n",
    "    plt.plot(-onp.minimum.accumulate(obj))\n",
    "plt.show()"
   ]
  },
  {
   "cell_type": "code",
   "execution_count": 28,
   "metadata": {},
   "outputs": [],
   "source": [
    "regrets = [-onp.minimum.accumulate(obj) for obj in obj_hist]"
   ]
  },
  {
   "cell_type": "code",
   "execution_count": 32,
   "metadata": {},
   "outputs": [],
   "source": [
    "with open('random_unif_regrets.npz', 'wb') as f:\n",
    "    pickle.dump(regrets, f)"
   ]
  },
  {
   "cell_type": "code",
   "execution_count": 33,
   "metadata": {},
   "outputs": [],
   "source": [
    "rs = pickle.load(open('random_unif_regrets.npz', \"rb\"))"
   ]
  },
  {
   "cell_type": "code",
   "execution_count": 34,
   "metadata": {},
   "outputs": [
    {
     "data": {
      "text/plain": [
       "list"
      ]
     },
     "execution_count": 34,
     "metadata": {},
     "output_type": "execute_result"
    }
   ],
   "source": [
    "type(rs)"
   ]
  },
  {
   "cell_type": "code",
   "execution_count": 36,
   "metadata": {},
   "outputs": [
    {
     "data": {
      "image/png": "[encoded data removed]",
      "text/plain": [
       "<Figure size 640x480 with 1 Axes>"
      ]
     },
     "metadata": {},
     "output_type": "display_data"
    }
   ],
   "source": [
    "for r in rs:\n",
    "    plt.plot(r)"
   ]
  },
  {
   "cell_type": "code",
   "execution_count": 41,
   "metadata": {},
   "outputs": [
    {
     "data": {
      "text/plain": [
       "[<matplotlib.lines.Line2D at 0x7f599c643d10>]"
      ]
     },
     "execution_count": 41,
     "metadata": {},
     "output_type": "execute_result"
    },
    {
     "data": {
      "image/png": "[encoded data removed]",
      "text/plain": [
       "<Figure size 640x480 with 1 Axes>"
      ]
     },
     "metadata": {},
     "output_type": "display_data"
    }
   ],
   "source": [
    "m = onp.median(onp.array(rs), axis=0)\n",
    "plt.plot(m)"
   ]
  }
 ],
 "metadata": {
  "kernelspec": {
   "display_name": "base",
   "language": "python",
   "name": "python3"
  },
  "language_info": {
   "codemirror_mode": {
    "name": "ipython",
    "version": 3
   },
   "file_extension": ".py",
   "mimetype": "text/x-python",
   "name": "python",
   "nbconvert_exporter": "python",
   "pygments_lexer": "ipython3",
   "version": "3.11.4"
  }
 },
 "nbformat": 4,
 "nbformat_minor": 2
}
